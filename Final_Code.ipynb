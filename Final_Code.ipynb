{
  "nbformat": 4,
  "nbformat_minor": 0,
  "metadata": {
    "colab": {
      "provenance": []
    },
    "kernelspec": {
      "name": "python3",
      "display_name": "Python 3"
    },
    "language_info": {
      "name": "python"
    }
  },
  "cells": [
    {
      "cell_type": "code",
      "source": [
        "!pip install faiss-cpu"
      ],
      "metadata": {
        "colab": {
          "base_uri": "https://localhost:8080/"
        },
        "id": "nkBnVw6kQtXV",
        "outputId": "de185249-9415-4ded-fbab-707ee204b7ea"
      },
      "execution_count": 8,
      "outputs": [
        {
          "output_type": "stream",
          "name": "stdout",
          "text": [
            "Requirement already satisfied: faiss-cpu in /usr/local/lib/python3.11/dist-packages (1.9.0.post1)\n",
            "Requirement already satisfied: numpy<3.0,>=1.25.0 in /usr/local/lib/python3.11/dist-packages (from faiss-cpu) (1.26.4)\n",
            "Requirement already satisfied: packaging in /usr/local/lib/python3.11/dist-packages (from faiss-cpu) (24.2)\n",
            "Requirement already satisfied: faiss-cpu in /usr/local/lib/python3.11/dist-packages (1.9.0.post1)\n",
            "Requirement already satisfied: numpy<3.0,>=1.25.0 in /usr/local/lib/python3.11/dist-packages (from faiss-cpu) (1.26.4)\n",
            "Requirement already satisfied: packaging in /usr/local/lib/python3.11/dist-packages (from faiss-cpu) (24.2)\n"
          ]
        }
      ]
    },
    {
      "cell_type": "code",
      "source": [
        "from google.colab import drive\n",
        "drive.mount('/content/drive')"
      ],
      "metadata": {
        "colab": {
          "base_uri": "https://localhost:8080/"
        },
        "id": "Ppi00BtqRJ5g",
        "outputId": "49c7fdbd-13b1-4d47-cd3b-fc418456cccf"
      },
      "execution_count": 9,
      "outputs": [
        {
          "output_type": "stream",
          "name": "stdout",
          "text": [
            "Drive already mounted at /content/drive; to attempt to forcibly remount, call drive.mount(\"/content/drive\", force_remount=True).\n",
            "Drive already mounted at /content/drive; to attempt to forcibly remount, call drive.mount(\"/content/drive\", force_remount=True).\n"
          ]
        }
      ]
    },
    {
      "cell_type": "code",
      "execution_count": 10,
      "metadata": {
        "colab": {
          "base_uri": "https://localhost:8080/"
        },
        "id": "N2P2MHVJQLMx",
        "outputId": "6d575231-d9fc-4f9a-ae0d-637e72b4ba86"
      },
      "outputs": [
        {
          "output_type": "stream",
          "name": "stdout",
          "text": [
            "Initializing components...\n"
          ]
        },
        {
          "output_type": "stream",
          "name": "stderr",
          "text": [
            "/usr/local/lib/python3.11/dist-packages/huggingface_hub/utils/_auth.py:94: UserWarning: \n",
            "The secret `HF_TOKEN` does not exist in your Colab secrets.\n",
            "To authenticate with the Hugging Face Hub, create a token in your settings tab (https://huggingface.co/settings/tokens), set it as secret in your Google Colab and restart your session.\n",
            "You will be able to reuse this secret in all of your notebooks.\n",
            "Please note that authentication is recommended but still optional to access public models or datasets.\n",
            "  warnings.warn(\n",
            "Device set to use cpu\n",
            "No model was supplied, defaulted to distilbert/distilbert-base-uncased-finetuned-sst-2-english and revision 714eb0f (https://huggingface.co/distilbert/distilbert-base-uncased-finetuned-sst-2-english).\n",
            "Using a pipeline without specifying a model name and revision in production is not recommended.\n",
            "Device set to use cpu\n"
          ]
        },
        {
          "name": "stdout",
          "output_type": "stream",
          "text": [
            "Loading dataset...\n",
            "Loading precomputed embeddings...\n",
            "FAISS index initialized with 50000 entries.\n",
            "Welcome to the Customer Support Chatbot!\n",
            "Type 'exit' to quit.\n",
            "\n",
            "Your Query: Why was my credit card charged twice?\n"
          ]
        },
        {
          "output_type": "stream",
          "name": "stderr",
          "text": [
            "Your max_length is set to 100, but your input_length is only 17. Since this is a summarization task, where outputs shorter than the input are typically wanted, you might consider decreasing max_length manually, e.g. summarizer('...', max_length=8)\n"
          ]
        },
        {
          "name": "stdout",
          "output_type": "stream",
          "text": [
            "\n",
            "--- Chatbot Response ---\n",
            "Response: Two credit card stolen last night. One one debit charge done last night charge amount of $1,000. Two credit cards stolen. One debit card stolen.\n",
            "Sentiment: NEGATIVE (Score: 0.98)\n",
            "Entities: [('two', 'CARDINAL'), ('last night', 'TIME'), ('last night', 'TIME')]\n",
            "\n",
            "--- Additional Info ---\n",
            "Retrieved Doc: two credit card stolen last night one one debit charge done last night charge amount\n",
            "Distance: 0.6169\n",
            "\n",
            "Retrieved Doc: credit card company double charged product purchased card purchase made charge duplicated disputed duplicate charge company continues demand pay product twice contacted company made purchase claim payed yet\n",
            "Distance: 0.6345\n",
            "\n",
            "Retrieved Doc: cancelled card charged\n",
            "Distance: 0.7137\n",
            "\n",
            "\n",
            "Your Query: Explain why my refund is delayed.\n"
          ]
        },
        {
          "output_type": "stream",
          "name": "stderr",
          "text": [
            "Your max_length is set to 100, but your input_length is only 27. Since this is a summarization task, where outputs shorter than the input are typically wanted, you might consider decreasing max_length manually, e.g. summarizer('...', max_length=13)\n"
          ]
        },
        {
          "name": "stdout",
          "output_type": "stream",
          "text": [
            "\n",
            "--- Chatbot Response ---\n",
            "Response:  refund told wait day money refund back saving account waited still receive money called boa said receive money said already refund money back account.\n",
            "Sentiment: NEGATIVE (Score: 0.99)\n",
            "Entities: [('day', 'DATE'), ('boa', 'PERSON')]\n",
            "\n",
            "--- Additional Info ---\n",
            "Retrieved Doc: refund told wait day money refund back saving account waited still receive money called boa said receive money said already refund money back account\n",
            "Distance: 0.7159\n",
            "\n",
            "Retrieved Doc: hey may ask get refund dollar refund back name date date thank\n",
            "Distance: 0.7567\n",
            "\n",
            "Retrieved Doc: purchased flight ticket wife throw delayed made miss rest flight covered full refund policy told u file refund application day receive money back never got refund contacted asked u wait time specific date waited filed claim capital one credit card service answer stating didnt contact refund refund policy provide documentation proof policy delayed flight refund application document proved right also showed commenting fraud capital one closer case even proved right agent doesnt seems care feel neglected took advantage want right citizen united state low say\n",
            "Distance: 0.8272\n",
            "\n",
            "\n",
            "Your Query: What is the process to dispute a charge?\n"
          ]
        },
        {
          "output_type": "stream",
          "name": "stderr",
          "text": [
            "Your max_length is set to 100, but your input_length is only 4. Since this is a summarization task, where outputs shorter than the input are typically wanted, you might consider decreasing max_length manually, e.g. summarizer('...', max_length=2)\n"
          ]
        },
        {
          "name": "stdout",
          "output_type": "stream",
          "text": [
            "\n",
            "--- Chatbot Response ---\n",
            "Response: A former U.S. Marine was arrested on suspicion of sexually assaulting a woman. The charges were later dropped and the woman was cleared of all charges.\n",
            "Sentiment: NEGATIVE (Score: 0.99)\n",
            "Entities: []\n",
            "\n",
            "--- Additional Info ---\n",
            "Retrieved Doc: disputed charge\n",
            "Distance: 0.6347\n",
            "\n",
            "Retrieved Doc: filed dispute given credit charge others denied without explanation charge charged dollar fee led charged fee\n",
            "Distance: 0.6794\n",
            "\n",
            "Retrieved Doc: dispute service concerning charge account made effort discard reservation inadvertently booked mistake call immediately placed explain mistake requested cancellation doubt transaction transmitted az charged reservation never processed service used following dispute charge case merchant dispute amount\n",
            "Distance: 0.7404\n",
            "\n",
            "\n",
            "Your Query: How do I resolve an issue with a retail banking account?\n"
          ]
        },
        {
          "output_type": "stream",
          "name": "stderr",
          "text": [
            "Your max_length is set to 100, but your input_length is only 7. Since this is a summarization task, where outputs shorter than the input are typically wanted, you might consider decreasing max_length manually, e.g. summarizer('...', max_length=3)\n"
          ]
        },
        {
          "name": "stdout",
          "output_type": "stream",
          "text": [
            "\n",
            "--- Chatbot Response ---\n",
            "Response: CNN.com is unable to link bank account account account to account linked to CNN.com. Please email us at jennifer.linning@cnn.com with any photos or video of you.\n",
            "Sentiment: NEGATIVE (Score: 1.00)\n",
            "Entities: []\n",
            "\n",
            "--- Additional Info ---\n",
            "Retrieved Doc: unable link bank account account\n",
            "Distance: 0.6631\n",
            "\n",
            "Retrieved Doc: cant open bank account bank america owe fraud consumer report false ive tried dispute tell nothing want record\n",
            "Distance: 0.6986\n",
            "\n",
            "Retrieved Doc: saw checking account transferred primary bank first national bank dont account open done went ahead contacted first national filed complaint directly im currently waiting paper work complete complaint process also second time two month unauthorized payment taken directly account im sure identity compromised\n",
            "Distance: 0.7097\n",
            "\n",
            "\n",
            "Your Query: What should I do about unauthorized transactions?\n"
          ]
        },
        {
          "output_type": "stream",
          "name": "stderr",
          "text": [
            "Your max_length is set to 100, but your input_length is only 7. Since this is a summarization task, where outputs shorter than the input are typically wanted, you might consider decreasing max_length manually, e.g. summarizer('...', max_length=3)\n"
          ]
        },
        {
          "name": "stdout",
          "output_type": "stream",
          "text": [
            "\n",
            "--- Chatbot Response ---\n",
            "Response: Fraudulent unauthorized inquires report. fraudulent unauthorized inquiries report. fraudulent unauthorized inquiries report. Fraudulent unauthorized Inquiries Report. fraudulently unauthorized Inquires Report.\n",
            "Sentiment: NEGATIVE (Score: 1.00)\n",
            "Entities: []\n",
            "\n",
            "--- Additional Info ---\n",
            "Retrieved Doc: fraudulent unauthorized inquires report\n",
            "Distance: 0.8396\n",
            "\n",
            "Retrieved Doc: fraudulent unauthorized inquires report\n",
            "Distance: 0.8396\n",
            "\n",
            "Retrieved Doc: fraudulent unauthorized inquires report\n",
            "Distance: 0.8396\n",
            "\n",
            "\n",
            "Your Query: Why did my payment history disappear from the credit report?\n"
          ]
        },
        {
          "output_type": "stream",
          "name": "stderr",
          "text": [
            "Your max_length is set to 100, but your input_length is only 9. Since this is a summarization task, where outputs shorter than the input are typically wanted, you might consider decreasing max_length manually, e.g. summarizer('...', max_length=4)\n"
          ]
        },
        {
          "name": "stdout",
          "output_type": "stream",
          "text": [
            "\n",
            "--- Chatbot Response ---\n",
            "Response: U.S. credit information reported delinquent paid a year ago. Credit information reported delinquency paid year ago: $1.2 billion.\n",
            "Sentiment: NEGATIVE (Score: 0.99)\n",
            "Entities: [('year ago', 'DATE')]\n",
            "\n",
            "--- Additional Info ---\n",
            "Retrieved Doc: credit information reported delinquent paid year ago\n",
            "Distance: 0.4527\n",
            "\n",
            "Retrieved Doc: credit information reported delinquent paid year ago\n",
            "Distance: 0.4527\n",
            "\n",
            "Retrieved Doc: credit information reported delinquent paid year ago\n",
            "Distance: 0.4527\n",
            "\n",
            "\n",
            "Your Query: Why did Comenity Bank change my credit limit without notifying me?\n"
          ]
        },
        {
          "output_type": "stream",
          "name": "stderr",
          "text": [
            "Your max_length is set to 100, but your input_length is only 81. Since this is a summarization task, where outputs shorter than the input are typically wanted, you might consider decreasing max_length manually, e.g. summarizer('...', max_length=40)\n"
          ]
        },
        {
          "name": "stdout",
          "output_type": "stream",
          "text": [
            "\n",
            "--- Chatbot Response ---\n",
            "Response:  credit report changed since got card incorrect asked information wasnt notified agreement didnt information caused utilization change xxxxredit score lower point rep wasnt able answer question bill always paid time month balance reward program lowering credit limit automatically disqualify taking advantage reward discrimination letter email notifying change changing credit limit charged lowered.\n",
            "Sentiment: NEGATIVE (Score: 1.00)\n",
            "Entities: [('comenity bank', 'ORG'), ('bill bal', 'PERSON')]\n",
            "\n",
            "--- Additional Info ---\n",
            "Retrieved Doc: comenity bank lowered credit limit tried using card said suspended didnt rec bill bal said got credit report changed since got card incorrect asked information wasnt notified agreement doesnt information caused utilization change xxxxredit score lower point rep wasnt able answer question bill always paid time month balance reward program lowering credit limit automatically disqualify taking advantage reward discrimination letter email notifying change changing credit limit charged lowered made mark credit\n",
            "Distance: 0.6505\n",
            "\n",
            "Retrieved Doc: comenity bank illegitimately closed account reason comenity bank lowered credit limit card result dispute handling comenity bank improperly used information dispute lowered credit limit credit card severely negatively impacting credit score despite every credit card paid time missed payment attempted contact via phone email avail settle dispute restore credit card limit also help restore higher credit score\n",
            "Distance: 0.6539\n",
            "\n",
            "Retrieved Doc: comenity credit card last year charged account closed several time effort make already negative charge even damaging extreme hardship due improper activity comenity bank ability obtain reasonable rate insurance loan score become impossible currently show late multiple time last month despite balance according information supplied credit bureau violation right fcra attempted dispute credit bureau trying refinance mortgage incorrect information caused several denial\n",
            "Distance: 0.7354\n",
            "\n",
            "\n",
            "Your Query: Can you help me with fraudulent charges on my Wells Fargo debit card?\n"
          ]
        },
        {
          "output_type": "stream",
          "name": "stderr",
          "text": [
            "Your max_length is set to 100, but your input_length is only 93. Since this is a summarization task, where outputs shorter than the input are typically wanted, you might consider decreasing max_length manually, e.g. summarizer('...', max_length=46)\n"
          ]
        },
        {
          "name": "stdout",
          "output_type": "stream",
          "text": [
            "\n",
            "--- Chatbot Response ---\n",
            "Response: Well fargo credit card service card went make payment credit card saw card balance extremely high four fraudulent charge authorize two back back charge respectively another charge target finally charge vendor say well fargo payment assistance program credit card payment still work.\n",
            "Sentiment: NEGATIVE (Score: 1.00)\n",
            "Entities: [('four', 'CARDINAL'), ('two', 'CARDINAL'), ('month', 'DATE')]\n",
            "\n",
            "--- Additional Info ---\n",
            "Retrieved Doc: contacted well fargo credit card service card went make payment credit card saw card balance extremely high four fraudulent charge authorize two back back charge respectively another charge target finally charge vendor say well fargo payment assistance program credit card payment prior since still work due covid frugal spending used card month time period called make aware fraudulent charge let know could said help take care fast forward see balance transfer well fargo put fraudulent charge back onto account saying liable never authorized charge begin\n",
            "Distance: 0.5411\n",
            "\n",
            "Retrieved Doc: hello purchase well fargo credit card amount fraud make purchase know please tell fix\n",
            "Distance: 0.5638\n",
            "\n",
            "Retrieved Doc: hello charge fraudulent attempted call well fargo able get ahold charge authorized fraudulent charge need removed disputed need card replaced asap ca ca ca ca ga ny ca ca\n",
            "Distance: 0.5663\n",
            "\n",
            "\n",
            "Your Query: What should I do if my mortgage account was marked as forbearance incorrectly?\n"
          ]
        },
        {
          "output_type": "stream",
          "name": "stderr",
          "text": [
            "Your max_length is set to 100, but your input_length is only 48. Since this is a summarization task, where outputs shorter than the input are typically wanted, you might consider decreasing max_length manually, e.g. summarizer('...', max_length=24)\n"
          ]
        },
        {
          "name": "stdout",
          "output_type": "stream",
          "text": [
            "\n",
            "--- Chatbot Response ---\n",
            "Response: Currently mortgage freedom mortgage requested put forbearance due beginning began requesting taken forbearance called countless time made payment brought account current still removed forbearance. Multiple request told purposely kept forbearance protect point still forbearance continuously told take nothing happening absolutely unacceptable.\n",
            "Sentiment: NEGATIVE (Score: 1.00)\n",
            "Entities: []\n",
            "\n",
            "--- Additional Info ---\n",
            "Retrieved Doc: currently mortgage freedom mortgage requested put forbearance due beginning began requesting taken forbearance called countless time made payment brought account current still removed forbearance multiple request told purposely kept forbearance protect point still forbearance continuously told take nothing happening absolutely unacceptable\n",
            "Distance: 0.6317\n",
            "\n",
            "Retrieved Doc: currently month forbearance plan lender despite reported negatively credit bureau resulting point drop score late mortgage changed yet submitting false information hurting u yet\n",
            "Distance: 0.6841\n",
            "\n",
            "Retrieved Doc: currently month forbearance plan lender despite reported negatively credit bureau resulting point drop score late mortgage changed yet submitting false information hurting u yet\n",
            "Distance: 0.6841\n",
            "\n",
            "\n",
            "Your Query: How do I handle a dispute with Capital One about a canceled order?\n"
          ]
        },
        {
          "output_type": "stream",
          "name": "stderr",
          "text": [
            "Your max_length is set to 100, but your input_length is only 33. Since this is a summarization task, where outputs shorter than the input are typically wanted, you might consider decreasing max_length manually, e.g. summarizer('...', max_length=16)\n"
          ]
        },
        {
          "name": "stdout",
          "output_type": "stream",
          "text": [
            "\n",
            "--- Chatbot Response ---\n",
            "Response:  capitalone charged back twice disputed charge occurred due to dissatisfaction merchant contacted capitalone dispute amount. merchant requested information provided without giving mr courtesy phone call letter charged back amount twice.\n",
            "Sentiment: NEGATIVE (Score: 0.98)\n",
            "Entities: []\n",
            "\n",
            "--- Additional Info ---\n",
            "Retrieved Doc: capitalone charged back twice disputed charge occurred due dissatisfaction merchant contacted capitalone dispute amount requested information provided without giving mr courtesy phone call letter charged back amount twice\n",
            "Distance: 0.8343\n",
            "\n",
            "Retrieved Doc: cancelled order charge remained bill refund issued contacted capital one credit resolve dispute capital one issued temporary credit credit account investigated dispute capital one concluded merchant credited account problem charge still credit card bill capital one take charge bill even though merchant issued credit date charge went store management gave paper work order order canceled issued fund corresponds charge remaining credit card bill date amount capital one wont correct mistake error merchant second time capital one pulled trick\n",
            "Distance: 0.8351\n",
            "\n",
            "Retrieved Doc: contacted capital one disputed charge account billed made dispute temporarily refunded money said case would considered settled company respond within day would receive written letter confirming day dispute contacted capital one received letter reassured indeed merchant respond money officially mine said keep eye letter recharged called complain representative simply know representative named put hold time saying check team back time told would hold minute hold hour half absolutely resolution problem\n",
            "Distance: 0.8366\n",
            "\n",
            "\n",
            "Your Query: Why was I charged late fees even though I paid my credit card bill on time?\n"
          ]
        },
        {
          "output_type": "stream",
          "name": "stderr",
          "text": [
            "Your max_length is set to 100, but your input_length is only 7. Since this is a summarization task, where outputs shorter than the input are typically wanted, you might consider decreasing max_length manually, e.g. summarizer('...', max_length=3)\n"
          ]
        },
        {
          "output_type": "stream",
          "name": "stdout",
          "text": [
            "\n",
            "--- Chatbot Response ---\n",
            "Response:  account showing late payment charge is taken from a bank account. The account was used to pay a late payment to a bank. The bank has since taken the account back.\n",
            "Sentiment: NEGATIVE (Score: 0.97)\n",
            "Entities: []\n",
            "\n",
            "--- Additional Info ---\n",
            "Retrieved Doc: account showing late payment charge\n",
            "Distance: 0.5619\n",
            "\n",
            "Retrieved Doc: account showing late payment charge\n",
            "Distance: 0.5619\n",
            "\n",
            "Retrieved Doc: account showing late payment charge\n",
            "Distance: 0.5619\n",
            "\n",
            "\n",
            "Your Query: exit\n",
            "Thank you for using the chatbot!\n",
            "Initializing components...\n"
          ]
        },
        {
          "output_type": "stream",
          "name": "stderr",
          "text": [
            "Device set to use cpu\n",
            "No model was supplied, defaulted to distilbert/distilbert-base-uncased-finetuned-sst-2-english and revision 714eb0f (https://huggingface.co/distilbert/distilbert-base-uncased-finetuned-sst-2-english).\n",
            "Using a pipeline without specifying a model name and revision in production is not recommended.\n",
            "Device set to use cpu\n"
          ]
        },
        {
          "output_type": "stream",
          "name": "stdout",
          "text": [
            "Loading dataset...\n",
            "Loading precomputed embeddings...\n",
            "FAISS index initialized with 50000 entries.\n",
            "Welcome to the Customer Support Chatbot!\n",
            "Type 'exit' to quit.\n",
            "\n",
            "Your Query: exit\n",
            "Thank you for using the chatbot!\n"
          ]
        }
      ],
      "source": [
        "from sentence_transformers import SentenceTransformer\n",
        "from transformers import pipeline\n",
        "import os\n",
        "import numpy as np\n",
        "import faiss\n",
        "from datetime import datetime\n",
        "import json\n",
        "import spacy\n",
        "\n",
        "# Initializing Components and Models\n",
        "print(\"Initializing components...\")\n",
        "embedder = SentenceTransformer('sentence-transformers/all-MiniLM-L6-v2')\n",
        "summarizer = pipeline(\"summarization\", model = \"facebook/bart-large-cnn\")\n",
        "sentiment_analyzer = pipeline(\"sentiment-analysis\")\n",
        "nlp = spacy.load(\"en_core_web_sm\")\n",
        "\n",
        "# Load Dataset\n",
        "print(\"Loading dataset...\")\n",
        "data_file = \"processed_complaints.csv\"\n",
        "if os.path.exists(data_file):\n",
        "    import pandas as pd\n",
        "    data = pd.read_csv(data_file)\n",
        "    data = data.loc[:, ~data.columns.str.contains('^Unnamed')]\n",
        "    data['processed_narrative'] = data['processed_narrative'].str.lower().str.strip()\n",
        "else:\n",
        "    raise FileNotFoundError(\"Dataset file not found!\")\n",
        "\n",
        "# Load or compute embeddings\n",
        "embeddings_file = \"embeddings.npy\"\n",
        "if os.path.exists(embeddings_file):\n",
        "    print(\"Loading precomputed embeddings...\")\n",
        "    embeddings = np.load(embeddings_file)\n",
        "else:\n",
        "    print(\"Computing embeddings...\")\n",
        "    embeddings = np.array(embedder.encode(data['processed_narrative'].tolist()))\n",
        "    np.save(embeddings_file, embeddings)\n",
        "\n",
        "# Initialize FAISS index\n",
        "dimension = embeddings.shape[1]\n",
        "index = faiss.read_index('faiss_index.bin')\n",
        "print(f\"FAISS index initialized with {index.ntotal} entries.\")\n",
        "\n",
        "# Functions\n",
        "def retrieve_documents(query, k=3):\n",
        "    query_embeddings = embedder.encode([query])\n",
        "    distances, indices = index.search(query_embeddings, k)\n",
        "    return [\n",
        "        {\"document\": data.iloc[i]['narrative'], \"distance\": dist}\n",
        "        for i, dist in zip(indices[0], distances[0])\n",
        "    ]\n",
        "\n",
        "def summarize_text(text):\n",
        "    return summarizer(text, max_length=100, min_length=25, do_sample=False)[0][\"summary_text\"]\n",
        "\n",
        "def analyze_sentiment(text):\n",
        "    return sentiment_analyzer(text)[0]\n",
        "\n",
        "def extract_entities(text):\n",
        "  doc = nlp(text)\n",
        "  return [(ent.text, ent.label_) for ent in doc.ents]\n",
        "\n",
        "def log_session(query, response, sentiment, entities):\n",
        "    log_entry = {\n",
        "        \"timestamp\": datetime.now().isoformat(),\n",
        "        \"query\": query,\n",
        "        \"response\": response,\n",
        "        \"sentiment\": sentiment,\n",
        "        \"entities\": entities\n",
        "    }\n",
        "    log_file = \"chatbot_logs.json\"\n",
        "\n",
        "    if os.path.exists(log_file):\n",
        "        with open(log_file, 'r') as file:\n",
        "            logs = json.load(file)\n",
        "    else:\n",
        "        logs = []\n",
        "    logs.append(log_entry)\n",
        "\n",
        "    with open(log_file, 'w') as file:\n",
        "        json.dump(logs, file, indent = 4)\n",
        "\n",
        "def chatbot():\n",
        "    print(\"Welcome to the Customer Support Chatbot!\")\n",
        "    print(\"Type 'exit' to quit.\")\n",
        "    while True:\n",
        "        query = input(\"\\nYour Query: \")\n",
        "        if query.lower() == \"exit\":\n",
        "            print(\"Thank you for using the chatbot!\")\n",
        "            break\n",
        "\n",
        "        retrieved_docs = retrieve_documents(query)\n",
        "        if not retrieved_docs:\n",
        "            print(\"No relevant documents found.\")\n",
        "            continue\n",
        "\n",
        "        top_document = retrieved_docs[0]['document']\n",
        "        summary = summarize_text(top_document)\n",
        "\n",
        "        sentiment = analyze_sentiment(top_document)\n",
        "        entities = extract_entities(top_document)\n",
        "\n",
        "        print(\"\\n--- Chatbot Response ---\")\n",
        "        print(f\"Response: {summary}\")\n",
        "        print(f\"Sentiment: {sentiment['label']} (Score: {sentiment['score']:.2f})\")\n",
        "        print(\"Entities:\", entities)\n",
        "        print(\"\\n--- Additional Info ---\")\n",
        "        for doc in retrieved_docs:\n",
        "            print(f\"Retrieved Doc: {doc['document']}\\nDistance: {doc['distance']:.4f}\\n\")\n",
        "\n",
        "        log_session(query, summary, sentiment, entities)\n",
        "\n",
        "if __name__ == \"__main__\":\n",
        "    chatbot()\n"
      ]
    },
    {
      "cell_type": "code",
      "source": [
        "import json\n",
        "from collections import Counter\n",
        "\n",
        "with open('chatbot_logs.json', 'r') as file:\n",
        "  logs = json.load(file)\n",
        "\n",
        "queries = [log['query'] for log in logs]\n",
        "query_count = Counter(queries)\n",
        "\n",
        "print(\"Most common queries:\")\n",
        "for query, count in query_count.most_common(5):\n",
        "  print(f\"{query}: {count} times\")"
      ],
      "metadata": {
        "colab": {
          "base_uri": "https://localhost:8080/"
        },
        "id": "BPZFT-XWTRc6",
        "outputId": "3248145b-2ff9-46ac-a966-37d8903f426a"
      },
      "execution_count": 11,
      "outputs": [
        {
          "output_type": "stream",
          "name": "stdout",
          "text": [
            "Most common queries:\n",
            "Why was my credit card charged twice?: 2 times\n",
            "Explain why my refund is delayed.: 2 times\n",
            "What is the process to dispute a charge?: 2 times\n",
            "How do I resolve an issue with a retail banking account?: 2 times\n",
            "What should I do about unauthorized transactions?: 2 times\n",
            "Most common queries:\n",
            "Why was my credit card charged twice?: 2 times\n",
            "Explain why my refund is delayed.: 2 times\n",
            "What is the process to dispute a charge?: 2 times\n",
            "How do I resolve an issue with a retail banking account?: 2 times\n",
            "What should I do about unauthorized transactions?: 2 times\n"
          ]
        }
      ]
    },
    {
      "cell_type": "code",
      "source": [
        "from sklearn.cluster import KMeans\n",
        "from sentence_transformers import SentenceTransformer\n",
        "\n",
        "embedder = SentenceTransformer('sentence-transformers/all-MiniLM-L6-v2')\n",
        "query_embeddings = embedder.encode(queries)\n",
        "\n",
        "kmeans = KMeans(n_clusters=5, random_state=42).fit(query_embeddings)\n",
        "clustered_queries = {i: [] for i in range(5)}\n",
        "\n",
        "for query, label in zip(queries, kmeans.labels_):\n",
        "  clustered_queries[label].append(query)\n",
        "\n",
        "for cluster, queries in clustered_queries.items():\n",
        "  print(f\"Cluster {cluster}:\")\n",
        "  for query in queries[:5]:  # Limit to 5 examples per cluster\n",
        "    print(f\"  - {query}\")"
      ],
      "metadata": {
        "colab": {
          "base_uri": "https://localhost:8080/"
        },
        "id": "yEzEstI9TR5x",
        "outputId": "d04c94b8-2277-48d4-c1ed-456fb380aa51"
      },
      "execution_count": 12,
      "outputs": [
        {
          "output_type": "stream",
          "name": "stdout",
          "text": [
            "Cluster 0:\n",
            "  - Why was my credit card charged twice?\n",
            "  - Why was my credit card charged twice?\n",
            "  - Can you help me with fraudulent charges on my Wells Fargo debit card?\n",
            "  - Why was I charged late fees even though I paid my credit card bill on time?\n",
            "Cluster 1:\n",
            "  - How do I resolve an issue with a retail banking account?\n",
            "  - What should I do about unauthorized transactions?\n",
            "  - How do I resolve an issue with a retail banking account?\n",
            "  - What should I do about unauthorized transactions?\n",
            "Cluster 2:\n",
            "  - What is the process to dispute a charge?\n",
            "  - What is the process to dispute a charge?\n",
            "  - How do I handle a dispute with Capital One about a canceled order?\n",
            "Cluster 3:\n",
            "  - Why did my payment history disappear from the credit report?\n",
            "  - Why did my payment history disappear from the credit report?\n",
            "  - Why did Comenity Bank change my credit limit without notifying me?\n",
            "  - What should I do if my mortgage account was marked as forbearance incorrectly?\n",
            "Cluster 4:\n",
            "  - Explain why my refund is delayed.\n",
            "  - Explain why my refund is delayed.\n",
            "Cluster 0:\n",
            "  - Why was my credit card charged twice?\n",
            "  - Why was my credit card charged twice?\n",
            "  - Can you help me with fraudulent charges on my Wells Fargo debit card?\n",
            "  - Why was I charged late fees even though I paid my credit card bill on time?\n",
            "Cluster 1:\n",
            "  - How do I resolve an issue with a retail banking account?\n",
            "  - What should I do about unauthorized transactions?\n",
            "  - How do I resolve an issue with a retail banking account?\n",
            "  - What should I do about unauthorized transactions?\n",
            "Cluster 2:\n",
            "  - What is the process to dispute a charge?\n",
            "  - What is the process to dispute a charge?\n",
            "  - How do I handle a dispute with Capital One about a canceled order?\n",
            "Cluster 3:\n",
            "  - Why did my payment history disappear from the credit report?\n",
            "  - Why did my payment history disappear from the credit report?\n",
            "  - Why did Comenity Bank change my credit limit without notifying me?\n",
            "  - What should I do if my mortgage account was marked as forbearance incorrectly?\n",
            "Cluster 4:\n",
            "  - Explain why my refund is delayed.\n",
            "  - Explain why my refund is delayed.\n"
          ]
        }
      ]
    },
    {
      "cell_type": "code",
      "source": [
        "high_negatives = [log for log in logs if log['sentiment']['label'] == 'NEGATIVE' and log['sentiment']['score'] > 0.99]\n",
        "\n",
        "print(\"Queries with high negative sentiment:\")\n",
        "for log in high_negatives:\n",
        "  print(f\"Query: {log['query']}\")\n",
        "  print(f\"Sentiment Score: {log['sentiment']['score']}\")\n",
        "  print(\"-\" * 30)"
      ],
      "metadata": {
        "colab": {
          "base_uri": "https://localhost:8080/"
        },
        "id": "dLJloMfbTT1q",
        "outputId": "3263efd1-c036-4d37-a5fd-a97c664d345b"
      },
      "execution_count": 13,
      "outputs": [
        {
          "output_type": "stream",
          "name": "stdout",
          "text": [
            "Queries with high negative sentiment:\n",
            "Query: Explain why my refund is delayed.\n",
            "Sentiment Score: 0.9938639402389526\n",
            "------------------------------\n",
            "Query: How do I resolve an issue with a retail banking account?\n",
            "Sentiment Score: 0.9995288848876953\n",
            "------------------------------\n",
            "Query: What should I do about unauthorized transactions?\n",
            "Sentiment Score: 0.9986843466758728\n",
            "------------------------------\n",
            "Query: Why did my payment history disappear from the credit report?\n",
            "Sentiment Score: 0.9906863570213318\n",
            "------------------------------\n",
            "Query: Explain why my refund is delayed.\n",
            "Sentiment Score: 0.9938639402389526\n",
            "------------------------------\n",
            "Query: How do I resolve an issue with a retail banking account?\n",
            "Sentiment Score: 0.9995288848876953\n",
            "------------------------------\n",
            "Query: What should I do about unauthorized transactions?\n",
            "Sentiment Score: 0.9986843466758728\n",
            "------------------------------\n",
            "Query: Why did my payment history disappear from the credit report?\n",
            "Sentiment Score: 0.9906863570213318\n",
            "------------------------------\n",
            "Query: Why did Comenity Bank change my credit limit without notifying me?\n",
            "Sentiment Score: 0.99678635597229\n",
            "------------------------------\n",
            "Query: Can you help me with fraudulent charges on my Wells Fargo debit card?\n",
            "Sentiment Score: 0.9965329170227051\n",
            "------------------------------\n",
            "Query: What should I do if my mortgage account was marked as forbearance incorrectly?\n",
            "Sentiment Score: 0.9966089725494385\n",
            "------------------------------\n",
            "Queries with high negative sentiment:\n",
            "Query: Explain why my refund is delayed.\n",
            "Sentiment Score: 0.9938639402389526\n",
            "------------------------------\n",
            "Query: How do I resolve an issue with a retail banking account?\n",
            "Sentiment Score: 0.9995288848876953\n",
            "------------------------------\n",
            "Query: What should I do about unauthorized transactions?\n",
            "Sentiment Score: 0.9986843466758728\n",
            "------------------------------\n",
            "Query: Why did my payment history disappear from the credit report?\n",
            "Sentiment Score: 0.9906863570213318\n",
            "------------------------------\n",
            "Query: Explain why my refund is delayed.\n",
            "Sentiment Score: 0.9938639402389526\n",
            "------------------------------\n",
            "Query: How do I resolve an issue with a retail banking account?\n",
            "Sentiment Score: 0.9995288848876953\n",
            "------------------------------\n",
            "Query: What should I do about unauthorized transactions?\n",
            "Sentiment Score: 0.9986843466758728\n",
            "------------------------------\n",
            "Query: Why did my payment history disappear from the credit report?\n",
            "Sentiment Score: 0.9906863570213318\n",
            "------------------------------\n",
            "Query: Why did Comenity Bank change my credit limit without notifying me?\n",
            "Sentiment Score: 0.99678635597229\n",
            "------------------------------\n",
            "Query: Can you help me with fraudulent charges on my Wells Fargo debit card?\n",
            "Sentiment Score: 0.9965329170227051\n",
            "------------------------------\n",
            "Query: What should I do if my mortgage account was marked as forbearance incorrectly?\n",
            "Sentiment Score: 0.9966089725494385\n",
            "------------------------------\n"
          ]
        }
      ]
    },
    {
      "cell_type": "code",
      "source": [
        "def explain_retrieval(query, k=3):\n",
        "  query_embedding = embedder.encode([query])\n",
        "  distances, indices = index.search(query_embedding, k)\n",
        "\n",
        "  explanations = []\n",
        "  for i, dist in zip(indices[0], distances[0]):\n",
        "    explanations.append({\n",
        "      \"retrieved_doc\": data.iloc[i]['narrative'],\n",
        "      \"distance\": dist\n",
        "    })\n",
        "  return explanations\n",
        "\n",
        "explanations = explain_retrieval(query)\n",
        "for explanation in explanations:\n",
        "  print(f\"Retrieved Document: {explanation['retrieved_doc']}\")\n",
        "  print(f\"Distance Score: {explanation['distance']}\")\n",
        "  print(\"-\" * 30)"
      ],
      "metadata": {
        "colab": {
          "base_uri": "https://localhost:8080/"
        },
        "id": "ovxqbUhGTVu7",
        "outputId": "849684ea-71db-40bc-865d-3b233144ec9c"
      },
      "execution_count": 14,
      "outputs": [
        {
          "output_type": "stream",
          "name": "stdout",
          "text": [
            "Retrieved Document: refund told wait day money refund back saving account waited still receive money called boa said receive money said already refund money back account\n",
            "Distance Score: 0.7158880233764648\n",
            "------------------------------\n",
            "Retrieved Document: hey may ask get refund dollar refund back name date date thank\n",
            "Distance Score: 0.7567122578620911\n",
            "------------------------------\n",
            "Retrieved Document: purchased flight ticket wife throw delayed made miss rest flight covered full refund policy told u file refund application day receive money back never got refund contacted asked u wait time specific date waited filed claim capital one credit card service answer stating didnt contact refund refund policy provide documentation proof policy delayed flight refund application document proved right also showed commenting fraud capital one closer case even proved right agent doesnt seems care feel neglected took advantage want right citizen united state low say\n",
            "Distance Score: 0.8272252082824707\n",
            "------------------------------\n",
            "Retrieved Document: refund told wait day money refund back saving account waited still receive money called boa said receive money said already refund money back account\n",
            "Distance Score: 0.7158880233764648\n",
            "------------------------------\n",
            "Retrieved Document: hey may ask get refund dollar refund back name date date thank\n",
            "Distance Score: 0.7567122578620911\n",
            "------------------------------\n",
            "Retrieved Document: purchased flight ticket wife throw delayed made miss rest flight covered full refund policy told u file refund application day receive money back never got refund contacted asked u wait time specific date waited filed claim capital one credit card service answer stating didnt contact refund refund policy provide documentation proof policy delayed flight refund application document proved right also showed commenting fraud capital one closer case even proved right agent doesnt seems care feel neglected took advantage want right citizen united state low say\n",
            "Distance Score: 0.8272252082824707\n",
            "------------------------------\n"
          ]
        }
      ]
    },
    {
      "cell_type": "code",
      "source": [
        "# Sample Queries\n",
        "# Why was my credit card charged twice?\n",
        "# Explain why my refund is delayed.\n",
        "# What is the process to dispute a charge?\n",
        "# How do I resolve an issue with a retail banking account?\n",
        "# What should I do about unauthorized transactions?\n",
        "# Why did my payment history disappear from the credit report?\n",
        "# Why did Comenity Bank change my credit limit without notifying me?\n",
        "# Can you help me with fraudulent charges on my Wells Fargo debit card?\n",
        "# What should I do if my mortgage account was marked as forbearance incorrectly?\n",
        "# How do I handle a dispute with Capital One about a canceled order?\n",
        "# Why was I charged late fees even though I paid my credit card bill on time?"
      ],
      "metadata": {
        "id": "AK5fyEXqdwMH"
      },
      "execution_count": null,
      "outputs": []
    }
  ]
}